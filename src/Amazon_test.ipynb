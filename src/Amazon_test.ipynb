{
 "cells": [
  {
   "cell_type": "markdown",
   "metadata": {},
   "source": [
    "importamos las librerias"
   ]
  },
  {
   "cell_type": "code",
   "execution_count": 3,
   "metadata": {},
   "outputs": [],
   "source": [
    "from selenium import webdriver\n",
    "from selenium.webdriver.chrome.service import Service as ChromeService\n",
    "from webdriver_manager.chrome import ChromeDriverManager\n",
    "from selenium.webdriver.common.by import By\n",
    "from selenium.webdriver.common.keys import Keys\n",
    "import time\n",
    "from selenium.common.exceptions import NoSuchElementException\n"
   ]
  },
  {
   "cell_type": "code",
   "execution_count": 4,
   "metadata": {},
   "outputs": [],
   "source": [
    "import pandas as pd"
   ]
  },
  {
   "cell_type": "markdown",
   "metadata": {},
   "source": [
    "Indicamos el texto a buscar"
   ]
  },
  {
   "cell_type": "code",
   "execution_count": 1,
   "metadata": {},
   "outputs": [],
   "source": [
    "texto_a_buscar = 'Tarjeta Grafica'"
   ]
  },
  {
   "cell_type": "markdown",
   "metadata": {},
   "source": [
    "Bloque de codigo que ejecuta el scraping sobre amazon"
   ]
  },
  {
   "cell_type": "code",
   "execution_count": 17,
   "metadata": {},
   "outputs": [
    {
     "ename": "WebDriverException",
     "evalue": "Message: unknown error: cannot determine loading status\nfrom target frame detached\n  (Session info: chrome=119.0.6045.123)\nStacktrace:\n#0 0x555ea2b5b5e3 <unknown>\n#1 0x555ea281df0d <unknown>\n#2 0x555ea2803f4e <unknown>\n#3 0x555ea2802481 <unknown>\n#4 0x555ea2802e39 <unknown>\n#5 0x555ea28141d9 <unknown>\n#6 0x555ea282b4c1 <unknown>\n#7 0x555ea283113b <unknown>\n#8 0x555ea28035ce <unknown>\n#9 0x555ea282b157 <unknown>\n#10 0x555ea28aea48 <unknown>\n#11 0x555ea2892cc3 <unknown>\n#12 0x555ea285e0e4 <unknown>\n#13 0x555ea285f0ae <unknown>\n#14 0x555ea2b21ce1 <unknown>\n#15 0x555ea2b25b7e <unknown>\n#16 0x555ea2b0f4b5 <unknown>\n#17 0x555ea2b267d6 <unknown>\n#18 0x555ea2af2dbf <unknown>\n#19 0x555ea2b49748 <unknown>\n#20 0x555ea2b49917 <unknown>\n#21 0x555ea2b5a773 <unknown>\n#22 0x7f0049e8f6ba <unknown>\n",
     "output_type": "error",
     "traceback": [
      "\u001b[0;31m---------------------------------------------------------------------------\u001b[0m",
      "\u001b[0;31mWebDriverException\u001b[0m                        Traceback (most recent call last)",
      "\u001b[1;32m/home/tr4shhh/Desktop/Proyects/4geeks/10-Web_Scraping/scraping-with-selenium/src/Amazon_test.ipynb Cell 7\u001b[0m line \u001b[0;36m7\n\u001b[1;32m     <a href='vscode-notebook-cell:/home/tr4shhh/Desktop/Proyects/4geeks/10-Web_Scraping/scraping-with-selenium/src/Amazon_test.ipynb#X12sZmlsZQ%3D%3D?line=65'>66</a>\u001b[0m driver\u001b[39m.\u001b[39mswitch_to\u001b[39m.\u001b[39mwindow(nuevas_ventanas[\u001b[39m-\u001b[39m\u001b[39m1\u001b[39m])\n\u001b[1;32m     <a href='vscode-notebook-cell:/home/tr4shhh/Desktop/Proyects/4geeks/10-Web_Scraping/scraping-with-selenium/src/Amazon_test.ipynb#X12sZmlsZQ%3D%3D?line=67'>68</a>\u001b[0m \u001b[39m# -----------\u001b[39;00m\n\u001b[1;32m     <a href='vscode-notebook-cell:/home/tr4shhh/Desktop/Proyects/4geeks/10-Web_Scraping/scraping-with-selenium/src/Amazon_test.ipynb#X12sZmlsZQ%3D%3D?line=68'>69</a>\u001b[0m \u001b[39m#Titulo\u001b[39;00m\n\u001b[0;32m---> <a href='vscode-notebook-cell:/home/tr4shhh/Desktop/Proyects/4geeks/10-Web_Scraping/scraping-with-selenium/src/Amazon_test.ipynb#X12sZmlsZQ%3D%3D?line=70'>71</a>\u001b[0m title \u001b[39m=\u001b[39m driver\u001b[39m.\u001b[39;49mfind_element(By\u001b[39m.\u001b[39;49mCSS_SELECTOR,\u001b[39m\"\u001b[39;49m\u001b[39mh1#title\u001b[39;49m\u001b[39m\"\u001b[39;49m)\u001b[39m.\u001b[39mtext\n\u001b[1;32m     <a href='vscode-notebook-cell:/home/tr4shhh/Desktop/Proyects/4geeks/10-Web_Scraping/scraping-with-selenium/src/Amazon_test.ipynb#X12sZmlsZQ%3D%3D?line=71'>72</a>\u001b[0m nombre\u001b[39m.\u001b[39mappend(title)\n\u001b[1;32m     <a href='vscode-notebook-cell:/home/tr4shhh/Desktop/Proyects/4geeks/10-Web_Scraping/scraping-with-selenium/src/Amazon_test.ipynb#X12sZmlsZQ%3D%3D?line=74'>75</a>\u001b[0m \u001b[39m# -----------\u001b[39;00m\n\u001b[1;32m     <a href='vscode-notebook-cell:/home/tr4shhh/Desktop/Proyects/4geeks/10-Web_Scraping/scraping-with-selenium/src/Amazon_test.ipynb#X12sZmlsZQ%3D%3D?line=75'>76</a>\u001b[0m \u001b[39m# Caracteristicas\u001b[39;00m\n",
      "File \u001b[0;32m~/venv/lib/python3.11/site-packages/selenium/webdriver/remote/webdriver.py:738\u001b[0m, in \u001b[0;36mWebDriver.find_element\u001b[0;34m(self, by, value)\u001b[0m\n\u001b[1;32m    735\u001b[0m     by \u001b[39m=\u001b[39m By\u001b[39m.\u001b[39mCSS_SELECTOR\n\u001b[1;32m    736\u001b[0m     value \u001b[39m=\u001b[39m \u001b[39mf\u001b[39m\u001b[39m'\u001b[39m\u001b[39m[name=\u001b[39m\u001b[39m\"\u001b[39m\u001b[39m{\u001b[39;00mvalue\u001b[39m}\u001b[39;00m\u001b[39m\"\u001b[39m\u001b[39m]\u001b[39m\u001b[39m'\u001b[39m\n\u001b[0;32m--> 738\u001b[0m \u001b[39mreturn\u001b[39;00m \u001b[39mself\u001b[39;49m\u001b[39m.\u001b[39;49mexecute(Command\u001b[39m.\u001b[39;49mFIND_ELEMENT, {\u001b[39m\"\u001b[39;49m\u001b[39musing\u001b[39;49m\u001b[39m\"\u001b[39;49m: by, \u001b[39m\"\u001b[39;49m\u001b[39mvalue\u001b[39;49m\u001b[39m\"\u001b[39;49m: value})[\u001b[39m\"\u001b[39m\u001b[39mvalue\u001b[39m\u001b[39m\"\u001b[39m]\n",
      "File \u001b[0;32m~/venv/lib/python3.11/site-packages/selenium/webdriver/remote/webdriver.py:344\u001b[0m, in \u001b[0;36mWebDriver.execute\u001b[0;34m(self, driver_command, params)\u001b[0m\n\u001b[1;32m    342\u001b[0m response \u001b[39m=\u001b[39m \u001b[39mself\u001b[39m\u001b[39m.\u001b[39mcommand_executor\u001b[39m.\u001b[39mexecute(driver_command, params)\n\u001b[1;32m    343\u001b[0m \u001b[39mif\u001b[39;00m response:\n\u001b[0;32m--> 344\u001b[0m     \u001b[39mself\u001b[39;49m\u001b[39m.\u001b[39;49merror_handler\u001b[39m.\u001b[39;49mcheck_response(response)\n\u001b[1;32m    345\u001b[0m     response[\u001b[39m\"\u001b[39m\u001b[39mvalue\u001b[39m\u001b[39m\"\u001b[39m] \u001b[39m=\u001b[39m \u001b[39mself\u001b[39m\u001b[39m.\u001b[39m_unwrap_value(response\u001b[39m.\u001b[39mget(\u001b[39m\"\u001b[39m\u001b[39mvalue\u001b[39m\u001b[39m\"\u001b[39m, \u001b[39mNone\u001b[39;00m))\n\u001b[1;32m    346\u001b[0m     \u001b[39mreturn\u001b[39;00m response\n",
      "File \u001b[0;32m~/venv/lib/python3.11/site-packages/selenium/webdriver/remote/errorhandler.py:229\u001b[0m, in \u001b[0;36mErrorHandler.check_response\u001b[0;34m(self, response)\u001b[0m\n\u001b[1;32m    227\u001b[0m         alert_text \u001b[39m=\u001b[39m value[\u001b[39m\"\u001b[39m\u001b[39malert\u001b[39m\u001b[39m\"\u001b[39m]\u001b[39m.\u001b[39mget(\u001b[39m\"\u001b[39m\u001b[39mtext\u001b[39m\u001b[39m\"\u001b[39m)\n\u001b[1;32m    228\u001b[0m     \u001b[39mraise\u001b[39;00m exception_class(message, screen, stacktrace, alert_text)  \u001b[39m# type: ignore[call-arg]  # mypy is not smart enough here\u001b[39;00m\n\u001b[0;32m--> 229\u001b[0m \u001b[39mraise\u001b[39;00m exception_class(message, screen, stacktrace)\n",
      "\u001b[0;31mWebDriverException\u001b[0m: Message: unknown error: cannot determine loading status\nfrom target frame detached\n  (Session info: chrome=119.0.6045.123)\nStacktrace:\n#0 0x555ea2b5b5e3 <unknown>\n#1 0x555ea281df0d <unknown>\n#2 0x555ea2803f4e <unknown>\n#3 0x555ea2802481 <unknown>\n#4 0x555ea2802e39 <unknown>\n#5 0x555ea28141d9 <unknown>\n#6 0x555ea282b4c1 <unknown>\n#7 0x555ea283113b <unknown>\n#8 0x555ea28035ce <unknown>\n#9 0x555ea282b157 <unknown>\n#10 0x555ea28aea48 <unknown>\n#11 0x555ea2892cc3 <unknown>\n#12 0x555ea285e0e4 <unknown>\n#13 0x555ea285f0ae <unknown>\n#14 0x555ea2b21ce1 <unknown>\n#15 0x555ea2b25b7e <unknown>\n#16 0x555ea2b0f4b5 <unknown>\n#17 0x555ea2b267d6 <unknown>\n#18 0x555ea2af2dbf <unknown>\n#19 0x555ea2b49748 <unknown>\n#20 0x555ea2b49917 <unknown>\n#21 0x555ea2b5a773 <unknown>\n#22 0x7f0049e8f6ba <unknown>\n"
     ]
    }
   ],
   "source": [
    "# Inicializamos las listas\n",
    "\n",
    "nombre= []\n",
    "precios = []\n",
    "caracteristicas = []\n",
    "stars = []\n",
    "ratings = []\n",
    "\n",
    "\n",
    "\n",
    "# Cargamos el driver\n",
    "\n",
    "driver = webdriver.Chrome(service=ChromeService(ChromeDriverManager().install()))\n",
    "url = \"https://www.amazon.es/\"\n",
    "driver.get(url)\n",
    "\n",
    "\n",
    "\n",
    "\n",
    "# Probamos en las diferentes paginas de inicio de amazon\n",
    "\n",
    "time.sleep(1)\n",
    "\n",
    "try:\n",
    "    busqueda = driver.find_element(By.CSS_SELECTOR,'input#twotabsearchtextbox')\n",
    "\n",
    "    busqueda.clear()\n",
    "    busqueda.send_keys(texto_a_buscar)\n",
    "    busqueda.send_keys(Keys.ENTER)\n",
    "\n",
    "except NoSuchElementException:\n",
    "\n",
    "    busqueda = driver.find_element(By.CSS_SELECTOR,'input#nav-bb-search')\n",
    "\n",
    "    busqueda.clear()\n",
    "    busqueda.send_keys(texto_a_buscar)\n",
    "    busqueda.send_keys(Keys.ENTER)\n",
    "\n",
    "\n",
    "\n",
    "\n",
    "# Comenzamos a scrapear la pagina de resultados de amazon\n",
    "\n",
    "time.sleep(1)\n",
    "elements = driver.find_elements(By.CSS_SELECTOR,'div.a-section.a-spacing-base')\n",
    "   \n",
    "for element in elements:\n",
    "   \n",
    "    btn = element.find_element(By.TAG_NAME,\"a\")\n",
    "\n",
    "    enlace_url = btn.get_attribute('href')\n",
    "\n",
    "    driver.execute_script(\"window.open('\" + enlace_url + \"', '_blank');\")\n",
    "\n",
    "    # -----------\n",
    "    # Precio\n",
    "\n",
    "    price = element.find_element(By.CSS_SELECTOR,\"span.a-price\").text\n",
    "    precios.append(price)\n",
    "\n",
    "\n",
    "    #------------\n",
    "\n",
    "    # Manejar la nueva ventana\n",
    "    nuevas_ventanas = driver.window_handles\n",
    "    driver.switch_to.window(nuevas_ventanas[-1])\n",
    "\n",
    "    # -----------\n",
    "    #Titulo\n",
    "\n",
    "    title = driver.find_element(By.CSS_SELECTOR,\"h1#title\").text\n",
    "    nombre.append(title)\n",
    "\n",
    "\n",
    "    # -----------\n",
    "    # Caracteristicas\n",
    "\n",
    "    try:\n",
    "\n",
    "        charss = driver.find_element(By.CSS_SELECTOR, 'table#productDetails_techSpec_section_1')\n",
    "\n",
    "\n",
    "        # Crear un diccionario para almacenar las etiquetas y valores\n",
    "        info_dict = {}\n",
    "\n",
    "\n",
    "\n",
    "        # Iterar sobre las filas de la tabla\n",
    "        for fila in charss.find_elements(By.TAG_NAME, 'tr'):\n",
    "\n",
    "            try:\n",
    "            # Obtener la etiqueta y el valor\n",
    "            \n",
    "                etiqueta = fila.find_element(By.CLASS_NAME, 'a-size-base.prodDetSectionEntry').text.strip()\n",
    "                valor = fila.find_element(By.CLASS_NAME, 'a-size-base.prodDetAttrValue').text.strip()\n",
    "\n",
    "                # Agregar la información al diccionario\n",
    "                info_dict[etiqueta] = valor\n",
    "\n",
    "            except NoSuchElementException:\n",
    "                continue\n",
    "\n",
    "\n",
    "        caracteristicas.append(info_dict)\n",
    "\n",
    "    except NoSuchElementException:\n",
    "\n",
    "        caracteristicas.append(None)\n",
    "\n",
    "\n",
    "\n",
    "    #----------------\n",
    "    # Stars and rating\n",
    "\n",
    "    try:\n",
    "        stars_and_ratings = driver.find_element(By.CSS_SELECTOR, 'div#averageCustomerReviews').text.split('\\n')\n",
    "\n",
    "        starsss = stars_and_ratings[0]\n",
    "        ratingsss = stars_and_ratings[-1]\n",
    "\n",
    "        stars.append(starsss)\n",
    "\n",
    "        ratings.append(ratingsss)\n",
    "\n",
    "    except NoSuchElementException:\n",
    "\n",
    "        stars.append(None)\n",
    "\n",
    "        ratings.append(None)\n",
    "\n",
    "\n",
    "    # Cerramos la ventana\n",
    "    driver.close()\n",
    "    driver.switch_to.window(nuevas_ventanas[0])\n",
    "\n",
    "\n",
    "    "
   ]
  },
  {
   "cell_type": "markdown",
   "metadata": {},
   "source": [
    "Limpiamos las listas antes del dataframe"
   ]
  },
  {
   "cell_type": "code",
   "execution_count": 18,
   "metadata": {},
   "outputs": [
    {
     "name": "stdout",
     "output_type": "stream",
     "text": [
      "2\n",
      "3\n",
      "2\n",
      "2\n",
      "2\n"
     ]
    }
   ],
   "source": [
    "print(len(nombre))\n",
    "print(len(precios ))\n",
    "print(len(caracteristicas ))\n",
    "print(len(stars ))\n",
    "print(len(ratings ))"
   ]
  },
  {
   "cell_type": "code",
   "execution_count": 19,
   "metadata": {},
   "outputs": [
    {
     "data": {
      "text/plain": [
       "'116\\n00€'"
      ]
     },
     "execution_count": 19,
     "metadata": {},
     "output_type": "execute_result"
    }
   ],
   "source": [
    "precios.pop()"
   ]
  },
  {
   "cell_type": "code",
   "execution_count": 20,
   "metadata": {},
   "outputs": [
    {
     "data": {
      "text/html": [
       "<div>\n",
       "<style scoped>\n",
       "    .dataframe tbody tr th:only-of-type {\n",
       "        vertical-align: middle;\n",
       "    }\n",
       "\n",
       "    .dataframe tbody tr th {\n",
       "        vertical-align: top;\n",
       "    }\n",
       "\n",
       "    .dataframe thead th {\n",
       "        text-align: right;\n",
       "    }\n",
       "</style>\n",
       "<table border=\"1\" class=\"dataframe\">\n",
       "  <thead>\n",
       "    <tr style=\"text-align: right;\">\n",
       "      <th></th>\n",
       "      <th>name</th>\n",
       "      <th>price</th>\n",
       "      <th>characteristics</th>\n",
       "      <th>stars</th>\n",
       "      <th>ratings</th>\n",
       "    </tr>\n",
       "  </thead>\n",
       "  <tbody>\n",
       "    <tr>\n",
       "      <th>0</th>\n",
       "      <td>GTX1050TI 4GB tarjeta gráfica DDR5 128BIT dobl...</td>\n",
       "      <td>115\\n00€</td>\n",
       "      <td>{'Marca': 'Generic', 'Fabricante': 'jinli', 'C...</td>\n",
       "      <td>None</td>\n",
       "      <td>None</td>\n",
       "    </tr>\n",
       "    <tr>\n",
       "      <th>1</th>\n",
       "      <td>PELADN AMD Radeon RX580 8GB Tarjeta Gráfica (G...</td>\n",
       "      <td>119\\n00€</td>\n",
       "      <td>{'Marca': 'Genérico', 'Fabricante': 'Peladn', ...</td>\n",
       "      <td>3,0</td>\n",
       "      <td>4 valoraciones</td>\n",
       "    </tr>\n",
       "  </tbody>\n",
       "</table>\n",
       "</div>"
      ],
      "text/plain": [
       "                                                name     price  \\\n",
       "0  GTX1050TI 4GB tarjeta gráfica DDR5 128BIT dobl...  115\\n00€   \n",
       "1  PELADN AMD Radeon RX580 8GB Tarjeta Gráfica (G...  119\\n00€   \n",
       "\n",
       "                                     characteristics stars         ratings  \n",
       "0  {'Marca': 'Generic', 'Fabricante': 'jinli', 'C...  None            None  \n",
       "1  {'Marca': 'Genérico', 'Fabricante': 'Peladn', ...   3,0  4 valoraciones  "
      ]
     },
     "execution_count": 20,
     "metadata": {},
     "output_type": "execute_result"
    }
   ],
   "source": [
    "amazon = {\n",
    "    'name':nombre,\n",
    "    'price':precios,\n",
    "    'characteristics':caracteristicas,\n",
    "    'stars':stars,\n",
    "    'ratings':ratings,\n",
    "}\n",
    "\n",
    "df = pd.DataFrame(amazon)\n",
    "df"
   ]
  }
 ],
 "metadata": {
  "kernelspec": {
   "display_name": "venv",
   "language": "python",
   "name": "python3"
  },
  "language_info": {
   "codemirror_mode": {
    "name": "ipython",
    "version": 3
   },
   "file_extension": ".py",
   "mimetype": "text/x-python",
   "name": "python",
   "nbconvert_exporter": "python",
   "pygments_lexer": "ipython3",
   "version": "3.11.4"
  }
 },
 "nbformat": 4,
 "nbformat_minor": 2
}
